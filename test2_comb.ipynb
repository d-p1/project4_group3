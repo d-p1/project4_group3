{
 "cells": [
  {
   "cell_type": "code",
   "execution_count": 2,
   "metadata": {},
   "outputs": [
    {
     "name": "stderr",
     "output_type": "stream",
     "text": [
      "<>:3: SyntaxWarning: invalid escape sequence '\\A'\n",
      "<>:4: SyntaxWarning: invalid escape sequence '\\C'\n",
      "<>:5: SyntaxWarning: invalid escape sequence '\\H'\n",
      "<>:6: SyntaxWarning: invalid escape sequence '\\M'\n",
      "<>:7: SyntaxWarning: invalid escape sequence '\\T'\n",
      "<>:3: SyntaxWarning: invalid escape sequence '\\A'\n",
      "<>:4: SyntaxWarning: invalid escape sequence '\\C'\n",
      "<>:5: SyntaxWarning: invalid escape sequence '\\H'\n",
      "<>:6: SyntaxWarning: invalid escape sequence '\\M'\n",
      "<>:7: SyntaxWarning: invalid escape sequence '\\T'\n",
      "C:\\Users\\Diana\\AppData\\Local\\Temp\\ipykernel_31340\\1252453780.py:3: SyntaxWarning: invalid escape sequence '\\A'\n",
      "  data_file1 = Path (\"Resources\\AAPL_Hdata_5yr.csv\")\n",
      "C:\\Users\\Diana\\AppData\\Local\\Temp\\ipykernel_31340\\1252453780.py:4: SyntaxWarning: invalid escape sequence '\\C'\n",
      "  data_file2 = Path (\"Resources\\CSCO_HDATA_5yr.csv\")\n",
      "C:\\Users\\Diana\\AppData\\Local\\Temp\\ipykernel_31340\\1252453780.py:5: SyntaxWarning: invalid escape sequence '\\H'\n",
      "  data_file3 = Path (\"Resources\\HistoricalData5yr_SBUX.csv\")\n",
      "C:\\Users\\Diana\\AppData\\Local\\Temp\\ipykernel_31340\\1252453780.py:6: SyntaxWarning: invalid escape sequence '\\M'\n",
      "  data_file4 = Path (\"Resources\\MSFT_HData_5yr.csv\")\n",
      "C:\\Users\\Diana\\AppData\\Local\\Temp\\ipykernel_31340\\1252453780.py:7: SyntaxWarning: invalid escape sequence '\\T'\n",
      "  data_file5 = Path (\"Resources\\TSLA_HData_5yr.csv\")\n",
      "C:\\Users\\Diana\\AppData\\Local\\Temp\\ipykernel_31340\\1252453780.py:3: SyntaxWarning: invalid escape sequence '\\A'\n",
      "  data_file1 = Path (\"Resources\\AAPL_Hdata_5yr.csv\")\n",
      "C:\\Users\\Diana\\AppData\\Local\\Temp\\ipykernel_31340\\1252453780.py:4: SyntaxWarning: invalid escape sequence '\\C'\n",
      "  data_file2 = Path (\"Resources\\CSCO_HDATA_5yr.csv\")\n",
      "C:\\Users\\Diana\\AppData\\Local\\Temp\\ipykernel_31340\\1252453780.py:5: SyntaxWarning: invalid escape sequence '\\H'\n",
      "  data_file3 = Path (\"Resources\\HistoricalData5yr_SBUX.csv\")\n",
      "C:\\Users\\Diana\\AppData\\Local\\Temp\\ipykernel_31340\\1252453780.py:6: SyntaxWarning: invalid escape sequence '\\M'\n",
      "  data_file4 = Path (\"Resources\\MSFT_HData_5yr.csv\")\n",
      "C:\\Users\\Diana\\AppData\\Local\\Temp\\ipykernel_31340\\1252453780.py:7: SyntaxWarning: invalid escape sequence '\\T'\n",
      "  data_file5 = Path (\"Resources\\TSLA_HData_5yr.csv\")\n"
     ]
    },
    {
     "ename": "NameError",
     "evalue": "name 'Path' is not defined",
     "output_type": "error",
     "traceback": [
      "\u001b[1;31m---------------------------------------------------------------------------\u001b[0m",
      "\u001b[1;31mNameError\u001b[0m                                 Traceback (most recent call last)",
      "Cell \u001b[1;32mIn[2], line 3\u001b[0m\n\u001b[0;32m      1\u001b[0m \u001b[38;5;28;01mimport\u001b[39;00m \u001b[38;5;21;01mpandas\u001b[39;00m \u001b[38;5;28;01mas\u001b[39;00m \u001b[38;5;21;01mpd\u001b[39;00m\n\u001b[0;32m      2\u001b[0m \u001b[38;5;66;03m# Store file path in a variable\u001b[39;00m\n\u001b[1;32m----> 3\u001b[0m data_file1 \u001b[38;5;241m=\u001b[39m \u001b[43mPath\u001b[49m (\u001b[38;5;124m\"\u001b[39m\u001b[38;5;124mResources\u001b[39m\u001b[38;5;124m\\\u001b[39m\u001b[38;5;124mAAPL_Hdata_5yr.csv\u001b[39m\u001b[38;5;124m\"\u001b[39m)\n\u001b[0;32m      4\u001b[0m data_file2 \u001b[38;5;241m=\u001b[39m Path (\u001b[38;5;124m\"\u001b[39m\u001b[38;5;124mResources\u001b[39m\u001b[38;5;124m\\\u001b[39m\u001b[38;5;124mCSCO_HDATA_5yr.csv\u001b[39m\u001b[38;5;124m\"\u001b[39m)\n\u001b[0;32m      5\u001b[0m data_file3 \u001b[38;5;241m=\u001b[39m Path (\u001b[38;5;124m\"\u001b[39m\u001b[38;5;124mResources\u001b[39m\u001b[38;5;124m\\\u001b[39m\u001b[38;5;124mHistoricalData5yr_SBUX.csv\u001b[39m\u001b[38;5;124m\"\u001b[39m)\n",
      "\u001b[1;31mNameError\u001b[0m: name 'Path' is not defined"
     ]
    }
   ],
   "source": [
    "import pandas as pd\n",
    "# Store file path in a variable\n",
    "data_file1 = Path (\"Resources\\AAPL_Hdata_5yr.csv\")\n",
    "data_file2 = Path (\"Resources\\CSCO_HDATA_5yr.csv\")\n",
    "data_file3 = Path (\"Resources\\HistoricalData5yr_SBUX.csv\")\n",
    "data_file4 = Path (\"Resources\\MSFT_HData_5yr.csv\")\n",
    "data_file5 = Path (\"Resources\\TSLA_HData_5yr.csv\")"
   ]
  },
  {
   "cell_type": "code",
   "execution_count": null,
   "metadata": {},
   "outputs": [],
   "source": [
    "\n",
    "# Read the CSV files into dataframes\n",
    "History1 = pd.read_csv(data_file1, encoding=\"ISO-8859-1\")\n",
    "History2 = pd.read_csv(data_file2, encoding=\"ISO-8859-1\")\n",
    "History3 = pd.read_csv(data_file3)\n",
    "History4 = pd.read_csv(data_file4)\n",
    "History5 = pd.read_csv(data_file5)\n",
    "\n",
    "\n"
   ]
  },
  {
   "cell_type": "code",
   "execution_count": null,
   "metadata": {},
   "outputs": [],
   "source": [
    "# Select relevant columns for each dataframe\n",
    "History1 = History1.rename(columns={\"Name\": \"Name\", \"Date\": \"Date\", \"Volume\": \"Volume\", \"Open\": \"Open\", \"High\": \"High\", \"Low\": \"Low\"})\n",
    "History2 = History2.rename(columns={\"Name\": \"Name\", \"Date\": \"Date\", \"Volume\": \"Volume\", \"Open\": \"Open\", \"High\": \"High\", \"Low\": \"Low\"})\n",
    "History3 = History3.rename(columns={\"Name\": \"Name\", \"Date\": \"Date\", \"Volume\": \"Volume\", \"Open\": \"Open\", \"High\": \"High\", \"Low\": \"Low\"})\n",
    "History4 = History4.rename(columns={\"Name\": \"Name\", \"Date\": \"Date\", \"Volume\": \"Volume\", \"Open\": \"Open\", \"High\": \"High\", \"Low\": \"Low\"})\n",
    "History5 = History5.rename(columns={\"Name\": \"Name\", \"Date\": \"Date\", \"Volume\": \"Volume\", \"Open\": \"Open\", \"High\": \"High\", \"Low\": \"Low\"})\n",
    "# Select relevant columns for each dataframe\n",
    "History1 = History1.rename(columns={\"Name\": \"Name\", \"Date\": \"Date\", \"Volume\": \"Volume\", \"Open\": \"Open\", \"High\": \"High\", \"Low\": \"Low\"})\n",
    "History2 = History2.rename(columns={\"Name\": \"Name\", \"Date\": \"Date\", \"Volume\": \"Volume\", \"Open\": \"Open\", \"High\": \"High\", \"Low\": \"Low\"})\n",
    "History3 = History3.rename(columns={\"Name\": \"Name\", \"Date\": \"Date\", \"Volume\": \"Volume\", \"Open\": \"Open\", \"High\": \"High\", \"Low\": \"Low\"})\n",
    "History4 = History4.rename(columns={\"Name\": \"Name\", \"Date\": \"Date\", \"Volume\": \"Volume\", \"Open\": \"Open\", \"High\": \"High\", \"Low\": \"Low\"})\n",
    "History5 = History5.rename(columns={\"Name\": \"Name\", \"Date\": \"Date\", \"Volume\": \"Volume\", \"Open\": \"Open\", \"High\": \"High\", \"Low\": \"Low\"})\n",
    "\n",
    "# Merge dataframes\n",
    "merged_df = pd.merge(History1, History2, on='Name', how='inner')\n",
    "merged_df = pd.merge(merged_df, History3, on='Name', how='inner')\n",
    "merged_df = pd.merge(merged_df, History4, on='Name', how='inner')\n",
    "merged_df = pd.merge(merged_df, History5, on='Name', how='inner')\n",
    "\n",
    "# If you want to merge based on an outer join, you can use how='outer' instead of how='inner'\n",
    "# merged_df = pd.merge(History1, History2, on='Name', how='outer')\n",
    "\n",
    "# Display the merged dataframe\n",
    "print(merged_df)"
   ]
  }
 ],
 "metadata": {
  "kernelspec": {
   "display_name": "Python 3",
   "language": "python",
   "name": "python3"
  },
  "language_info": {
   "codemirror_mode": {
    "name": "ipython",
    "version": 3
   },
   "file_extension": ".py",
   "mimetype": "text/x-python",
   "name": "python",
   "nbconvert_exporter": "python",
   "pygments_lexer": "ipython3",
   "version": "3.12.0"
  }
 },
 "nbformat": 4,
 "nbformat_minor": 2
}
